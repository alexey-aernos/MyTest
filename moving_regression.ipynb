{
 "cells": [
  {
   "cell_type": "code",
   "execution_count": 1,
   "metadata": {
    "collapsed": true
   },
   "outputs": [],
   "source": [
    "# import holy panda\n",
    "import pandas as pd\n",
    "pd.options.mode.chained_assignment = None  # default='warn'"
   ]
  },
  {
   "cell_type": "code",
   "execution_count": 2,
   "metadata": {
    "collapsed": true
   },
   "outputs": [],
   "source": [
    "# make plots pretty\n",
    "import matplotlib.pyplot as plt\n",
    "%matplotlib inline\n",
    "# list all parameters by \"print(plt.rcParams)\" command\n",
    "plt.rcParams['figure.figsize'] = (7.5, 7.5)\n",
    "plt.rcParams['font.size'] = 15\n",
    "plt.rcParams['axes.grid'] = True\n",
    "plt.rcParams['figure.facecolor'] = 'w'"
   ]
  },
  {
   "cell_type": "code",
   "execution_count": 3,
   "metadata": {
    "collapsed": true
   },
   "outputs": [],
   "source": [
    "# generating range of points\n",
    "a, b = (1.,2.)\n",
    "N = 100\n",
    "n = 1\n",
    "x = pd.np.linspace(a, b, N+1)"
   ]
  },
  {
   "cell_type": "code",
   "execution_count": 4,
   "metadata": {
    "collapsed": false
   },
   "outputs": [],
   "source": [
    "# generating jittery linear function y = kx+b\n",
    "k, b = (1.5, 1.0)\n",
    "y = k*x+b\n",
    "noise = 0.1\n",
    "y += pd.np.random.normal(loc=0., scale=noise, size=len(x))\n",
    "df = pd.DataFrame(zip(x,y), columns=['x','y'])"
   ]
  },
  {
   "cell_type": "code",
   "execution_count": 14,
   "metadata": {
    "collapsed": false
   },
   "outputs": [],
   "source": [
    "# function that adds slope and bias columns to argument dataframe \n",
    "# for N-point moving window\n",
    "# http://www.clemson.edu/ces/phoenix/tutorials/excel/regression.html\n",
    "def moving_linear_regression(data, N=10):\n",
    "    _df = data[[0,1]].loc[:,]\n",
    "    _df.columns = ('x','y')\n",
    "    _df['s_x']  = 0.\n",
    "    _df['s_y']  = 0.\n",
    "    _df['s_xy'] = 0.\n",
    "    _df['s_xx'] = 0.\n",
    "    _df['s_yy'] = 0.\n",
    "    sign = N/abs(N)\n",
    "    N = abs(N)\n",
    "    for i in range(N):\n",
    "        _x = _df.x.shift(sign*i)\n",
    "        _y = _df.y.shift(sign*i)\n",
    "        _df.s_x += _x\n",
    "        _df.s_y += _y\n",
    "        _df.s_xy += _x*_y\n",
    "        _df.s_xx += _x*_x\n",
    "        _df.s_yy += _y*_y\n",
    "    # now computing the results\n",
    "    k  = N*_df.s_xy-_df.s_x*_df.s_y\n",
    "    k /= N*_df.s_xx-_df.s_x*_df.s_x\n",
    "    b = (_df.s_y-k*_df.s_x)/N\n",
    "    # goodness of linear fir - r^2\n",
    "    r  = N*_df.s_xy-_df.s_x*_df.s_y\n",
    "    r *= r\n",
    "    r /= N*_df.s_xx-_df.s_x*_df.s_x\n",
    "    r /= N*_df.s_yy-_df.s_y*_df.s_y\n",
    "    # packing it into the argument dataframe\n",
    "    data['k'] = k\n",
    "    data['r'] = r\n",
    "    data['b'] = b\n",
    "    del _df"
   ]
  },
  {
   "cell_type": "code",
   "execution_count": 13,
   "metadata": {
    "collapsed": false
   },
   "outputs": [],
   "source": [
    "# adding dataframe columns for coefficients from moving window linead regression\n",
    "moving_linear_regression(df, 75) # the size of the moving window N - fun to play with \n",
    "# adding dataframe column for modeled value of resposnse\n",
    "df['reg'] = df.k*df.x+df.b"
   ]
  },
  {
   "cell_type": "code",
   "execution_count": 11,
   "metadata": {
    "collapsed": false
   },
   "outputs": [
    {
     "name": "stdout",
     "output_type": "stream",
     "text": [
      "27 0.108522133405\n"
     ]
    }
   ],
   "source": [
    "# evaluate the noise over nonnull regression predictions\n",
    "select = df.reg.notnull()\n",
    "print sum(select), (df[select].y-df[select].reg).std()"
   ]
  },
  {
   "cell_type": "code",
   "execution_count": 12,
   "metadata": {
    "collapsed": false
   },
   "outputs": [
    {
     "data": {
      "image/png": "[encoded data removed]",
      "text/plain": [
       "<matplotlib.figure.Figure at 0x7f76e1161590>"
      ]
     },
     "metadata": {},
     "output_type": "display_data"
    }
   ],
   "source": [
    "# plotting the data points and moving regression\n",
    "plt.plot(df.x,df.y, linestyle=' ', marker='o', color='k')\n",
    "plt.plot(df.x,df.reg, linewidth=3, color='r')\n",
    "plt.xlim(1.01,1.99)\n",
    "plt.ylim(2.01,4.49)\n",
    "plt.title(\"Moving Window Linear Regression\")\n",
    "plt.xlabel(\"argument value\")\n",
    "plt.ylabel(\"function value\");"
   ]
  },
  {
   "cell_type": "code",
   "execution_count": null,
   "metadata": {
    "collapsed": true
   },
   "outputs": [],
   "source": []
  }
 ],
 "metadata": {
  "kernelspec": {
   "display_name": "Python 2",
   "language": "python",
   "name": "python2"
  },
  "language_info": {
   "codemirror_mode": {
    "name": "ipython",
    "version": 2
   },
   "file_extension": ".py",
   "mimetype": "text/x-python",
   "name": "python",
   "nbconvert_exporter": "python",
   "pygments_lexer": "ipython2",
   "version": "2.7.12"
  }
 },
 "nbformat": 4,
 "nbformat_minor": 0
}
