{
 "cells": [
  {
   "cell_type": "code",
   "execution_count": 1,
   "metadata": {
    "collapsed": true
   },
   "outputs": [],
   "source": [
    "# import holy panda\n",
    "import pandas as pd"
   ]
  },
  {
   "cell_type": "code",
   "execution_count": 92,
   "metadata": {
    "collapsed": true
   },
   "outputs": [],
   "source": [
    "x = pd.Series(pd.np.random.normal(size=1000))\n",
    "y = x.ewm(span=35, adjust=True)"
   ]
  },
  {
   "cell_type": "code",
   "execution_count": 93,
   "metadata": {
    "collapsed": true
   },
   "outputs": [],
   "source": [
    "def eww_ave(x, span=35):\n",
    "    alpha = 2./(span+1.)\n",
    "    result = [x[0]]\n",
    "    den = 1.\n",
    "    num = x[0]\n",
    "    for t in range(1,len(x)):\n",
    "        w = 1.-alpha\n",
    "        den = 1+w*den\n",
    "        num = x[t]+w*num\n",
    "        result.append(num/den)\n",
    "    return result"
   ]
  },
  {
   "cell_type": "code",
   "execution_count": 94,
   "metadata": {
    "collapsed": false
   },
   "outputs": [],
   "source": [
    "Y = pd.Series(eww_ave(x.values, span=35))"
   ]
  },
  {
   "cell_type": "code",
   "execution_count": 95,
   "metadata": {
    "collapsed": false
   },
   "outputs": [
    {
     "name": "stdout",
     "output_type": "stream",
     "text": [
      "-40.9388551011 -40.9388551011\n"
     ]
    }
   ],
   "source": [
    "print Y.sum(), y.mean().sum()"
   ]
  },
  {
   "cell_type": "code",
   "execution_count": 98,
   "metadata": {
    "collapsed": false
   },
   "outputs": [
    {
     "data": {
      "text/plain": [
       "0    0.000000\n",
       "1    0.001441\n",
       "2    0.390257\n",
       "3    1.066167\n",
       "4    0.898366\n",
       "dtype: float64"
      ]
     },
     "execution_count": 98,
     "metadata": {},
     "output_type": "execute_result"
    }
   ],
   "source": [
    "# calculated biased variance as X^2-avex^2\n",
    "(pd.Series(eww_ave(x*x,35))-pd.Series(eww_ave(x,35))**2)[:5]"
   ]
  },
  {
   "cell_type": "code",
   "execution_count": 97,
   "metadata": {
    "collapsed": false
   },
   "outputs": [
    {
     "data": {
      "text/plain": [
       "0    0.000000\n",
       "1    0.001441\n",
       "2    0.390257\n",
       "3    1.066167\n",
       "4    0.898366\n",
       "dtype: float64"
      ]
     },
     "execution_count": 97,
     "metadata": {},
     "output_type": "execute_result"
    }
   ],
   "source": [
    "# figure out how to de-bias using formula at the bottom of this page\n",
    "# http://pandas.pydata.org/pandas-docs/stable/computation.html#exponentially-weighted-windows\n",
    "y.var(bias=True)[:5]"
   ]
  }
 ],
 "metadata": {
  "kernelspec": {
   "display_name": "Python 2",
   "language": "python",
   "name": "python2"
  },
  "language_info": {
   "codemirror_mode": {
    "name": "ipython",
    "version": 2
   },
   "file_extension": ".py",
   "mimetype": "text/x-python",
   "name": "python",
   "nbconvert_exporter": "python",
   "pygments_lexer": "ipython2",
   "version": "2.7.6"
  }
 },
 "nbformat": 4,
 "nbformat_minor": 0
}
